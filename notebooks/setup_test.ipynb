{
 "cells": [
  {
   "cell_type": "code",
   "execution_count": 3,
   "metadata": {},
   "outputs": [
    {
     "name": "stdout",
     "output_type": "stream",
     "text": [
      "Python version: 3.13.2 (main, Feb  4 2025, 14:51:09) [Clang 16.0.0 (clang-1600.0.26.6)]\n",
      "Pandas version: 2.2.3\n",
      "NumPy version: 2.2.4\n",
      "Project directory: /Users/tom/insurance-sentiment-dashboard\n",
      "Data directory: /Users/tom/insurance-sentiment-dashboard/data\n"
     ]
    }
   ],
   "source": [
    "# Environment Setup for Local Use\n",
    "\n",
    "import os\n",
    "import sys\n",
    "import numpy as np\n",
    "import pandas as pd\n",
    "import matplotlib.pyplot as plt\n",
    "import seaborn as sns\n",
    "from datetime import datetime, timedelta\n",
    "import random\n",
    "import json\n",
    "import re\n",
    "from dotenv import load_dotenv\n",
    "import openai\n",
    "\n",
    "# Load the .env file\n",
    "load_dotenv()\n",
    "openai.api_key = os.getenv(\"OPENAI_API_KEY\")\n",
    "\n",
    "# Plotting Defaults\n",
    "plt.style.use(\"ggplot\")\n",
    "sns.set(style=\"whitegrid\")\n",
    "\n",
    "# Version Info\n",
    "print(f\"Python version: {sys.version}\")\n",
    "print(f\"Pandas version: {pd.__version__}\")\n",
    "print(f\"NumPy version: {np.__version__}\")\n",
    "\n",
    "# Local Project Directories\n",
    "PROJECT_DIR = os.path.dirname(os.getcwd())\n",
    "DATA_DIR = os.path.join(PROJECT_DIR, \"data\")\n",
    "os.makedirs(DATA_DIR, exist_ok=True)\n",
    "\n",
    "print(f\"Project directory: {PROJECT_DIR}\")\n",
    "print(f\"Data directory: {DATA_DIR}\")\n",
    "\n",
    "# Optional: Test OpenAI API connection\n",
    "def test_openai_connection():\n",
    "    if not openai.api_key:\n",
    "        print(\"API key not found.\")\n",
    "        return False\n",
    "    try:\n",
    "        response = openai.chat.completions.create(\n",
    "            model=\"gpt-4o\",\n",
    "            messages=[{\"role\": \"user\", \"content\": \"Hello, are you working?\"}],\n",
    "            max_tokens=10,\n",
    "        )\n",
    "        print(\"OpenAI API connection successful with GPT-4o\")\n",
    "        return True\n",
    "    except Exception as e:\n",
    "        print(f\"OpenAI API connection failed: {e}\")\n",
    "        return False\n",
    "\n",
    "# Uncomment to test connection\n",
    "# test_openai_connection()"
   ]
  },
  {
   "cell_type": "code",
   "execution_count": 4,
   "metadata": {},
   "outputs": [
    {
     "name": "stdout",
     "output_type": "stream",
     "text": [
      "Project directory: /Users/tom/insurance-sentiment-dashboard\n",
      "Data directory: /Users/tom/insurance-sentiment-dashboard/data\n"
     ]
    }
   ],
   "source": [
    "print(f\"Project directory: {PROJECT_DIR}\")\n",
    "print(f\"Data directory: {DATA_DIR}\")"
   ]
  },
  {
   "cell_type": "code",
   "execution_count": 5,
   "metadata": {},
   "outputs": [],
   "source": [
    "def classify_sentiment(text: str) -> str:\n",
    "    try:\n",
    "        response = openai.chat.completions.create(\n",
    "            model=\"gpt-4o\",\n",
    "            messages=[\n",
    "                {\n",
    "                    \"role\": \"user\",\n",
    "                    \"content\": f\"Classify the sentiment of the following insurance-related feedback as positive, negative, or neutral:\\n\\n{text}\"\n",
    "                }\n",
    "            ],\n",
    "            max_tokens=10,\n",
    "        )\n",
    "\n",
    "        # Extract the response text\n",
    "        result = response.choices[0].message.content.strip().lower()\n",
    "        return result\n",
    "\n",
    "    except Exception as e:\n",
    "        print(f\"Sentiment classification failed: {e}\")\n",
    "        return \"error\""
   ]
  },
  {
   "cell_type": "code",
   "execution_count": 6,
   "metadata": {},
   "outputs": [
    {
     "name": "stdout",
     "output_type": "stream",
     "text": [
      "Sentiment: negative\n"
     ]
    }
   ],
   "source": [
    "sample_text = \"The claims process was super slow and frustrating.\"\n",
    "print(\"Sentiment:\", classify_sentiment(sample_text))"
   ]
  },
  {
   "cell_type": "code",
   "execution_count": 8,
   "metadata": {},
   "outputs": [],
   "source": [
    "import pandas as pd\n",
    "\n",
    "def validate_sentiments(df, sample_size=10):\n",
    "    \"\"\"\n",
    "    Randomly sample and display sentiment-labeled insurance comments for manual validation.\n",
    "\n",
    "    Parameters:\n",
    "        df (pd.DataFrame): The DataFrame with 'comment' and 'sentiment' columns.\n",
    "        sample_size (int): Number of rows to sample for inspection.\n",
    "\n",
    "    Returns:\n",
    "        pd.DataFrame: Sampled rows for review.\n",
    "    \"\"\"\n",
    "    if 'comment' not in df.columns or 'sentiment' not in df.columns:\n",
    "        raise ValueError(\"DataFrame must contain 'comment' and 'sentiment' columns.\")\n",
    "    \n",
    "    sample = df.sample(n=sample_size, random_state=42).reset_index(drop=True)\n",
    "    return sample[['comment', 'sentiment']]"
   ]
  },
  {
   "cell_type": "code",
   "execution_count": 14,
   "metadata": {},
   "outputs": [],
   "source": [
    "def validate_sentiments_from_list(comments, sample_size=5):\n",
    "    import pandas as pd\n",
    "    sample = comments[:sample_size]\n",
    "    results = [{\"comment\": text, \"sentiment\": classify_sentiment(text)} for text in sample]\n",
    "    return pd.DataFrame(results)"
   ]
  },
  {
   "cell_type": "code",
   "execution_count": 15,
   "metadata": {},
   "outputs": [],
   "source": [
    "test_comments = [\n",
    "    \"I’m really happy with how quickly they resolved my issue.\",\n",
    "    \"The customer service rep was rude.\",\n",
    "    \"I don’t feel strongly either way about this company.\",\n",
    "    # Add more if you have them\n",
    "]"
   ]
  },
  {
   "cell_type": "code",
   "execution_count": 16,
   "metadata": {},
   "outputs": [
    {
     "data": {
      "text/html": [
       "<div>\n",
       "<style scoped>\n",
       "    .dataframe tbody tr th:only-of-type {\n",
       "        vertical-align: middle;\n",
       "    }\n",
       "\n",
       "    .dataframe tbody tr th {\n",
       "        vertical-align: top;\n",
       "    }\n",
       "\n",
       "    .dataframe thead th {\n",
       "        text-align: right;\n",
       "    }\n",
       "</style>\n",
       "<table border=\"1\" class=\"dataframe\">\n",
       "  <thead>\n",
       "    <tr style=\"text-align: right;\">\n",
       "      <th></th>\n",
       "      <th>comment</th>\n",
       "      <th>sentiment</th>\n",
       "    </tr>\n",
       "  </thead>\n",
       "  <tbody>\n",
       "    <tr>\n",
       "      <th>0</th>\n",
       "      <td>I’m really happy with how quickly they resolve...</td>\n",
       "      <td>the sentiment of the feedback is positive.</td>\n",
       "    </tr>\n",
       "    <tr>\n",
       "      <th>1</th>\n",
       "      <td>The customer service rep was rude.</td>\n",
       "      <td>negative</td>\n",
       "    </tr>\n",
       "    <tr>\n",
       "      <th>2</th>\n",
       "      <td>I don’t feel strongly either way about this co...</td>\n",
       "      <td>neutral</td>\n",
       "    </tr>\n",
       "  </tbody>\n",
       "</table>\n",
       "</div>"
      ],
      "text/plain": [
       "                                             comment  \\\n",
       "0  I’m really happy with how quickly they resolve...   \n",
       "1                 The customer service rep was rude.   \n",
       "2  I don’t feel strongly either way about this co...   \n",
       "\n",
       "                                    sentiment  \n",
       "0  the sentiment of the feedback is positive.  \n",
       "1                                    negative  \n",
       "2                                     neutral  "
      ]
     },
     "execution_count": 16,
     "metadata": {},
     "output_type": "execute_result"
    }
   ],
   "source": [
    "validate_sentiments_from_list(test_comments)"
   ]
  },
  {
   "cell_type": "code",
   "execution_count": 17,
   "metadata": {},
   "outputs": [],
   "source": [
    "from sklearn.feature_extraction.text import TfidfVectorizer\n",
    "from sklearn.metrics.pairwise import cosine_similarity\n",
    "import pandas as pd\n",
    "\n",
    "def retrieve_relevant_comments(query: str, comments: list, top_n: int = 5) -> pd.DataFrame:\n",
    "    \"\"\"\n",
    "    Retrieve top N relevant comments using TF-IDF and cosine similarity.\n",
    "\n",
    "    Parameters:\n",
    "        query (str): The user's search query.\n",
    "        comments (list): A list of insurance-related text comments.\n",
    "        top_n (int): Number of top relevant results to return.\n",
    "\n",
    "    Returns:\n",
    "        pd.DataFrame: Top N matching comments with similarity scores.\n",
    "    \"\"\"\n",
    "    # Combine query and comments into one list\n",
    "    all_texts = [query] + comments\n",
    "\n",
    "    # Vectorize using TF-IDF\n",
    "    vectorizer = TfidfVectorizer()\n",
    "    tfidf_matrix = vectorizer.fit_transform(all_texts)\n",
    "\n",
    "    # Compute cosine similarity between the query and all comments\n",
    "    similarities = cosine_similarity(tfidf_matrix[0:1], tfidf_matrix[1:]).flatten()\n",
    "\n",
    "    # Build results DataFrame\n",
    "    results_df = pd.DataFrame({\n",
    "        'comment': comments,\n",
    "        'similarity': similarities\n",
    "    })\n",
    "\n",
    "    # Return top N results sorted by similarity\n",
    "    return results_df.sort_values(by='similarity', ascending=False).head(top_n).reset_index(drop=True)"
   ]
  },
  {
   "cell_type": "code",
   "execution_count": 18,
   "metadata": {},
   "outputs": [
    {
     "data": {
      "text/html": [
       "<div>\n",
       "<style scoped>\n",
       "    .dataframe tbody tr th:only-of-type {\n",
       "        vertical-align: middle;\n",
       "    }\n",
       "\n",
       "    .dataframe tbody tr th {\n",
       "        vertical-align: top;\n",
       "    }\n",
       "\n",
       "    .dataframe thead th {\n",
       "        text-align: right;\n",
       "    }\n",
       "</style>\n",
       "<table border=\"1\" class=\"dataframe\">\n",
       "  <thead>\n",
       "    <tr style=\"text-align: right;\">\n",
       "      <th></th>\n",
       "      <th>comment</th>\n",
       "      <th>similarity</th>\n",
       "    </tr>\n",
       "  </thead>\n",
       "  <tbody>\n",
       "    <tr>\n",
       "      <th>0</th>\n",
       "      <td>The customer service rep was rude.</td>\n",
       "      <td>0.263568</td>\n",
       "    </tr>\n",
       "    <tr>\n",
       "      <th>1</th>\n",
       "      <td>I’m really happy with how quickly they resolve...</td>\n",
       "      <td>0.000000</td>\n",
       "    </tr>\n",
       "    <tr>\n",
       "      <th>2</th>\n",
       "      <td>I don’t feel strongly either way about this co...</td>\n",
       "      <td>0.000000</td>\n",
       "    </tr>\n",
       "  </tbody>\n",
       "</table>\n",
       "</div>"
      ],
      "text/plain": [
       "                                             comment  similarity\n",
       "0                 The customer service rep was rude.    0.263568\n",
       "1  I’m really happy with how quickly they resolve...    0.000000\n",
       "2  I don’t feel strongly either way about this co...    0.000000"
      ]
     },
     "execution_count": 18,
     "metadata": {},
     "output_type": "execute_result"
    }
   ],
   "source": [
    "retrieve_relevant_comments(\"Was the claims process smooth?\", test_comments)"
   ]
  },
  {
   "cell_type": "code",
   "execution_count": 19,
   "metadata": {},
   "outputs": [
    {
     "data": {
      "text/html": [
       "<div>\n",
       "<style scoped>\n",
       "    .dataframe tbody tr th:only-of-type {\n",
       "        vertical-align: middle;\n",
       "    }\n",
       "\n",
       "    .dataframe tbody tr th {\n",
       "        vertical-align: top;\n",
       "    }\n",
       "\n",
       "    .dataframe thead th {\n",
       "        text-align: right;\n",
       "    }\n",
       "</style>\n",
       "<table border=\"1\" class=\"dataframe\">\n",
       "  <thead>\n",
       "    <tr style=\"text-align: right;\">\n",
       "      <th></th>\n",
       "      <th>comment</th>\n",
       "      <th>similarity</th>\n",
       "    </tr>\n",
       "  </thead>\n",
       "  <tbody>\n",
       "    <tr>\n",
       "      <th>0</th>\n",
       "      <td>The customer service rep was rude.</td>\n",
       "      <td>0.198428</td>\n",
       "    </tr>\n",
       "    <tr>\n",
       "      <th>1</th>\n",
       "      <td>I’m really happy with how quickly they resolve...</td>\n",
       "      <td>0.158253</td>\n",
       "    </tr>\n",
       "    <tr>\n",
       "      <th>2</th>\n",
       "      <td>I don’t feel strongly either way about this co...</td>\n",
       "      <td>0.000000</td>\n",
       "    </tr>\n",
       "  </tbody>\n",
       "</table>\n",
       "</div>"
      ],
      "text/plain": [
       "                                             comment  similarity\n",
       "0                 The customer service rep was rude.    0.198428\n",
       "1  I’m really happy with how quickly they resolve...    0.158253\n",
       "2  I don’t feel strongly either way about this co...    0.000000"
      ]
     },
     "execution_count": 19,
     "metadata": {},
     "output_type": "execute_result"
    }
   ],
   "source": [
    "retrieve_relevant_comments(\"How was your experience with the insurance claims process?\", test_comments)"
   ]
  },
  {
   "cell_type": "code",
   "execution_count": 20,
   "metadata": {},
   "outputs": [],
   "source": [
    "import openai\n",
    "\n",
    "def answer_with_context(query: str, comments: list, top_n: int = 5) -> str:\n",
    "    \"\"\"\n",
    "    Generate an answer to a query using top N relevant insurance comments as context.\n",
    "\n",
    "    Parameters:\n",
    "        query (str): The user's question.\n",
    "        comments (list): A list of insurance-related text comments.\n",
    "        top_n (int): Number of relevant comments to retrieve.\n",
    "\n",
    "    Returns:\n",
    "        str: GPT-generated answer using retrieved context.\n",
    "    \"\"\"\n",
    "    # Retrieve relevant comments\n",
    "    top_comments_df = retrieve_relevant_comments(query, comments, top_n=top_n)\n",
    "    context = \"\\n- \".join(top_comments_df['comment'].tolist())\n",
    "\n",
    "    prompt = (\n",
    "        f\"You are analyzing insurance customer feedback.\\n\"\n",
    "        f\"Here are relevant comments:\\n- {context}\\n\\n\"\n",
    "        f\"Based on these, answer the following question:\\n\\n{query}\"\n",
    "    )\n",
    "\n",
    "    # Call GPT-4o to generate answer\n",
    "    response = openai.chat.completions.create(\n",
    "        model=\"gpt-4o\",\n",
    "        messages=[\n",
    "            {\"role\": \"user\", \"content\": prompt}\n",
    "        ],\n",
    "        max_tokens=150\n",
    "    )\n",
    "\n",
    "    return response.choices[0].message.content.strip()"
   ]
  },
  {
   "cell_type": "code",
   "execution_count": 21,
   "metadata": {},
   "outputs": [
    {
     "data": {
      "text/plain": [
       "'Based on the comments provided, there is limited specific feedback regarding the claims process itself. However, one customer mentioned being \"really happy with how quickly they resolved my issue,\" which suggests a positive experience related to the resolution of a claim. The other comments do not directly address the claims process but instead focus on neutral and negative experiences with the company and customer service. Therefore, while one customer may have had a positive experience with the claims process, the overall sentiment cannot be fully determined from the limited feedback provided.'"
      ]
     },
     "execution_count": 21,
     "metadata": {},
     "output_type": "execute_result"
    }
   ],
   "source": [
    "answer_with_context(\"How did customers feel about the claims process?\", test_comments)"
   ]
  }
 ],
 "metadata": {
  "kernelspec": {
   "display_name": ".venv",
   "language": "python",
   "name": "python3"
  },
  "language_info": {
   "codemirror_mode": {
    "name": "ipython",
    "version": 3
   },
   "file_extension": ".py",
   "mimetype": "text/x-python",
   "name": "python",
   "nbconvert_exporter": "python",
   "pygments_lexer": "ipython3",
   "version": "3.13.2"
  }
 },
 "nbformat": 4,
 "nbformat_minor": 2
}
